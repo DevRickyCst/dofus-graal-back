{
 "cells": [
  {
   "cell_type": "code",
   "execution_count": 4,
   "metadata": {},
   "outputs": [
    {
     "name": "stdout",
     "output_type": "stream",
     "text": [
      "Commentaire ajouté au fichier : operations.rs\n",
      "Commentaire ajouté au fichier : schema.rs\n",
      "Commentaire ajouté au fichier : constant.rs\n",
      "Commentaire ajouté au fichier : main.rs\n",
      "Commentaire ajouté au fichier : cli.rs\n",
      "Commentaire ajouté au fichier : db_operations/crud.rs\n",
      "Commentaire ajouté au fichier : db_operations/insert_statics.rs\n",
      "Commentaire ajouté au fichier : db_operations/mod.rs\n",
      "Commentaire ajouté au fichier : db_operations/handler_item_meta.rs\n",
      "Commentaire ajouté au fichier : db_operations/insert_item.rs\n",
      "Commentaire ajouté au fichier : api/models.rs\n",
      "Commentaire ajouté au fichier : api/client.rs\n",
      "Commentaire ajouté au fichier : api/mod.rs\n",
      "Commentaire ajouté au fichier : api/params.rs\n",
      "Commentaire ajouté au fichier : models/mod.rs\n",
      "Commentaire ajouté au fichier : models/statics/mod.rs\n",
      "Commentaire ajouté au fichier : models/statics/item/insertable.rs\n",
      "Commentaire ajouté au fichier : models/statics/item/queryable.rs\n",
      "Commentaire ajouté au fichier : models/statics/item/mod.rs\n",
      "Commentaire ajouté au fichier : models/statics/dofus_meta/insertable.rs\n",
      "Commentaire ajouté au fichier : models/statics/dofus_meta/mod.rs\n",
      "Commentaire ajouté au fichier : models/statics/item_meta/insertable.rs\n",
      "Commentaire ajouté au fichier : models/statics/item_meta/queryable.rs\n",
      "Commentaire ajouté au fichier : models/statics/item_meta/mod.rs\n"
     ]
    }
   ],
   "source": [
    "import os\n",
    "\n",
    "def add_relative_path_to_files(directory):\n",
    "    \"\"\"\n",
    "    Parcours un dossier et ajoute le chemin relatif en commentaire au début\n",
    "    de chaque fichier .sql et .rs.\n",
    "\n",
    "    Args:\n",
    "        directory (str): Le chemin du dossier à parcourir.\n",
    "    \"\"\"\n",
    "    for root, _, files in os.walk(directory):\n",
    "        for file in files:\n",
    "            if file.endswith(('.sql', '.rs')):\n",
    "                file_path = os.path.join(root, file)\n",
    "                relative_path = os.path.relpath(file_path, directory)\n",
    "\n",
    "                try:\n",
    "                    # Lire le contenu du fichier\n",
    "                    with open(file_path, 'r', encoding='utf-8') as f:\n",
    "                        content = f.read()\n",
    "\n",
    "                    # Préparer le commentaire avec le chemin relatif\n",
    "                    comment = f\"-- Relative path: {directory}/{relative_path}\\n\"\n",
    "                    if file.endswith('.rs'):\n",
    "                        comment = f\"// Relative path: {directory}/{relative_path}\\n\"\n",
    "\n",
    "                    # Ajouter le commentaire en début de fichier\n",
    "                    new_content = comment + content\n",
    "\n",
    "                    # Écrire le nouveau contenu dans le fichier\n",
    "                    with open(file_path, 'w', encoding='utf-8') as f:\n",
    "                        f.write(new_content)\n",
    "\n",
    "                    print(f\"Commentaire ajouté au fichier : {relative_path}\")\n",
    "                except Exception as e:\n",
    "                    print(f\"Erreur lors du traitement du fichier {relative_path}: {e}\")\n",
    "\n",
    "if __name__ == \"__main__\":\n",
    "    directory = input(\"Entrez le chemin du dossier à parcourir : \").strip()\n",
    "    if os.path.isdir(directory):\n",
    "        add_relative_path_to_files(directory)\n",
    "    else:\n",
    "        print(\"Le chemin spécifié n'est pas un dossier valide.\")\n"
   ]
  },
  {
   "cell_type": "code",
   "execution_count": null,
   "metadata": {},
   "outputs": [],
   "source": []
  }
 ],
 "metadata": {
  "kernelspec": {
   "display_name": "Python 3",
   "language": "python",
   "name": "python3"
  },
  "language_info": {
   "codemirror_mode": {
    "name": "ipython",
    "version": 3
   },
   "file_extension": ".py",
   "mimetype": "text/x-python",
   "name": "python",
   "nbconvert_exporter": "python",
   "pygments_lexer": "ipython3",
   "version": "3.12.3"
  }
 },
 "nbformat": 4,
 "nbformat_minor": 2
}
