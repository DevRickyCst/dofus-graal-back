{
 "cells": [
  {
   "cell_type": "code",
   "execution_count": null,
   "metadata": {},
   "outputs": [],
   "source": [
    "import os\n",
    "\n",
    "def copy_texts_from_repo(repo_path, output_file):\n",
    "    \"\"\"\n",
    "    Parcours tous les fichiers d'un répertoire (repo), lit leur contenu,\n",
    "    et les écrit dans un fichier de sortie séparés par le nom de fichier.\n",
    "\n",
    "    :param repo_path: chemin du répertoire du repo\n",
    "    :param output_file: chemin du fichier de sortie\n",
    "    \"\"\"\n",
    "    with open(output_file, \"w\", encoding=\"utf-8\") as output:\n",
    "        for root, _, files in os.walk(repo_path):\n",
    "            for file in files:\n",
    "                file_path = os.path.join(root, file)\n",
    "\n",
    "                try:\n",
    "                    with open(file_path, \"r\", encoding=\"utf-8\") as f:\n",
    "                        content = f.read()\n",
    "\n",
    "                    output.write(f\"\\n===== {file_path} =====\\n\")\n",
    "                    output.write(content)\n",
    "                    output.write(\"\\n\\n\")\n",
    "                except Exception as e:\n",
    "                    print(f\"Could not read {file_path}: {e}\")\n",
    "\n",
    "\n",
    "# Chemin du repo à parcourir\n",
    "repo_path = \"models\"\n",
    "\n",
    "# Chemin du fichier de sortie\n",
    "output_file = \"output.txt\"\n",
    "\n",
    "copy_texts_from_repo(repo_path, output_file)\n",
    "print(f\"Texts from the repo have been copied to {output_file}\")"
   ]
  }
 ],
 "metadata": {
  "kernelspec": {
   "display_name": "Python 3",
   "language": "python",
   "name": "python3"
  },
  "language_info": {
   "name": "python",
   "version": "3.12.3"
  }
 },
 "nbformat": 4,
 "nbformat_minor": 2
}
